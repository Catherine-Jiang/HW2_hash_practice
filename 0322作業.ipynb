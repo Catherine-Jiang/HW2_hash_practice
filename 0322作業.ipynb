{
  "nbformat": 4,
  "nbformat_minor": 0,
  "metadata": {
    "colab": {
      "provenance": []
    },
    "kernelspec": {
      "name": "python3",
      "display_name": "Python 3"
    },
    "language_info": {
      "name": "python"
    }
  },
  "cells": [
    {
      "cell_type": "code",
      "source": [
        "word_counts = {} #創建空字典\n",
        "#打開並讀取txt檔\n",
        "with open(\"/content/hw2_data.txt\", \"r\") as file:\n",
        "#讀取檔案文字\n",
        "  for item in file:\n",
        "    word = item.rstrip() #消除字尾的換行符號\n",
        "#檢查是否在字典中\n",
        "    if word in word_counts:\n",
        "      word_counts[word] += 1 #如果有就+1\n",
        "#沒有就新增至字典並設定值為1\n",
        "    else:\n",
        "      word_counts[word] = 1\n",
        "words_number = len(word_counts) #字典裡鍵與值的數量\n",
        "print(\"總共有多少個不重複的英文字\")\n",
        "print(words_number)\n",
        "print(\"\")\n",
        "print(\"每一個英文字出現次數為何\")\n",
        "print(word_counts)"
      ],
      "metadata": {
        "colab": {
          "base_uri": "https://localhost:8080/"
        },
        "outputId": "a91369e8-5ef6-48c0-c5e8-fe05db3445a4",
        "id": "KiWYEEA3Gvi_"
      },
      "execution_count": 16,
      "outputs": [
        {
          "output_type": "stream",
          "name": "stdout",
          "text": [
            "總共有多少個不重複的英文字\n",
            "10\n",
            "\n",
            "每一個英文字出現次數為何\n",
            "{'Cheese': 234, 'Pizza': 83, 'Coke': 145, 'Steak': 46, 'Burger': 196, 'Fries': 76, 'Rib': 33, 'Taco': 57, 'Pho': 19, 'Potato': 3}\n"
          ]
        }
      ]
    }
  ]
}