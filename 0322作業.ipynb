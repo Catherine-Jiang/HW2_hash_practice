{
  "nbformat": 4,
  "nbformat_minor": 0,
  "metadata": {
    "colab": {
      "provenance": []
    },
    "kernelspec": {
      "name": "python3",
      "display_name": "Python 3"
    },
    "language_info": {
      "name": "python"
    }
  },
  "cells": [
    {
      "cell_type": "code",
      "source": [
        "word_counts = {} #創建空字典\n",
        "line = \"\"\n",
        "word = \"\"\n",
        "#打開並讀取txt檔\n",
        "with open(\"/hw2_data.txt\", \"r\") as file:\n",
        "  for line in file:   #逐行讀取內容\n",
        "     words = line.split()   #分割單字\n",
        "     for word in words:   #遍歷每個單字\n",
        "         if word in word_counts:   #檢查是否在字典中\n",
        "           word_counts[word] += 1   #如果有就+1\n",
        "         else:   #如果沒有就新增為鍵並設定值為1\n",
        "           word_counts[word] = 1\n",
        "words_number = len(word_counts) #字典裡鍵與值的數量\n",
        "print(\"總共有多少個不重複的英文字\")\n",
        "print(words_number)\n",
        "print(\"\")\n",
        "print(\"每一個英文字出現次數為何\")\n",
        "print(word_counts)"
      ],
      "metadata": {
        "colab": {
          "base_uri": "https://localhost:8080/"
        },
        "id": "YdeEC47bTRdM",
        "outputId": "bc88f887-d63e-4e9d-d1d5-b3aa8e7d60b7"
      },
      "execution_count": 33,
      "outputs": [
        {
          "output_type": "stream",
          "name": "stdout",
          "text": [
            "總共有多少個不重複的英文字\n",
            "10\n",
            "\n",
            "每一個英文字出現次數為何\n",
            "{'Cheese': 234, 'Pizza': 83, 'Coke': 145, 'Steak': 46, 'Burger': 196, 'Fries': 76, 'Rib': 33, 'Taco': 57, 'Pho': 19, 'Potato': 3}\n"
          ]
        }
      ]
    }
  ]
}